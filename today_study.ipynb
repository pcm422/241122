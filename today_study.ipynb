{
 "cells": [
  {
   "cell_type": "markdown",
   "metadata": {},
   "source": [
    "## 1. 함수란 무엇일까요?\n",
    "\n",
    "- **실행할 수 있는 문장**\n",
    "    - **비효율과 실수를 줄이기 위해 자주 반복되는 코드들을 미리 작성**해 놓는 것\n",
    "\n",
    "## 2. 함수의 선언과 실행\n",
    "\n",
    "**def 키워드를 통해 함수를 정의하는 것은 함수를 선언하는 것**에 그칩니다.\n",
    "\n",
    "**함수는 함수가 호출될 때 실행**됩니다."
   ]
  },
  {
   "cell_type": "code",
   "execution_count": 2,
   "metadata": {},
   "outputs": [
    {
     "name": "stdout",
     "output_type": "stream",
     "text": [
      "양파를 2개 수확했습니다.\n",
      "대파를 수확했습니다.\n"
     ]
    }
   ],
   "source": [
    "#함수를 선언합니다.\n",
    "def 양파():\n",
    "\tprint('양파를 2개 수확했습니다.')\n",
    "def 대파():\n",
    "\tprint('대파를 수확했습니다.')\n",
    "\t\n",
    "#함수를 호출합니다.\n",
    "양파()\n",
    "대파()"
   ]
  },
  {
   "cell_type": "markdown",
   "metadata": {},
   "source": [
    "## 3. 함수의 반환\n",
    "\n",
    "함수는 **return을 사용하여 값을 반환**합니다.\n",
    "\n",
    "함수 내부의 **return을 만나면, 이후의 코드를 실행하지 않고 함수를 종료**합니다."
   ]
  },
  {
   "cell_type": "code",
   "execution_count": 3,
   "metadata": {},
   "outputs": [
    {
     "name": "stdout",
     "output_type": "stream",
     "text": [
      "옥수수와 수박의 수확량 : 12\n"
     ]
    }
   ],
   "source": [
    "#함수를 선언합니다.\n",
    "def function(x, y):\n",
    "\tz = x + y\n",
    "\t#함수의 값을 return합니다.\n",
    "\treturn z\n",
    "\n",
    "#옥수수 10개, 수박 2개\n",
    "#function(10, 2) == z\n",
    "print('옥수수와 수박의 수확량 :', function(10, 2))"
   ]
  },
  {
   "cell_type": "markdown",
   "metadata": {},
   "source": [
    "## 5. return 유무의 차이\n",
    "\n",
    "**return이 없어도 함수를 실행할 수 있습니다.**\n",
    "\n",
    "다만 **return이 없는 경우에는, 함수 외부에서 함수 내부의 값을 얻을 수 없습니다.**"
   ]
  },
  {
   "cell_type": "markdown",
   "metadata": {},
   "source": [
    "## 6. 함수 내에서 전역변수 사용하기\n",
    "\n",
    "**함수 밖에 있는 전역 변수의 값을 함수 내부에서 변경하려면 global 키워드**를 사용해 선언해야합니다."
   ]
  },
  {
   "cell_type": "code",
   "execution_count": 4,
   "metadata": {},
   "outputs": [
    {
     "name": "stdout",
     "output_type": "stream",
     "text": [
      "101\n"
     ]
    }
   ],
   "source": [
    "# 전역 변수 a를 100으로 초기화합니다.\n",
    "a = 100\n",
    "\n",
    "# 함수를 정의합니다.\n",
    "def f():\n",
    "    # 함수 내에서 전역 변수 a를 사용하기 위해 global 키워드를 사용합니다.\n",
    "    global a\n",
    "    # 전역 변수 a의 값을 1 증가시킵니다.\n",
    "    a = a + 1\n",
    "    # 증가된 전역 변수 a의 값을 반환합니다.\n",
    "    return a\n",
    "\n",
    "# 함수 f를 호출하여 전역 변수 a의 값을 1 증가시킵니다.\n",
    "f()\n",
    "\n",
    "# 증가된 값을 출력합니다.\n",
    "print(a)"
   ]
  },
  {
   "cell_type": "markdown",
   "metadata": {},
   "source": [
    "dict타입에 한해서 전역변수에 있는 값을 지역변수로 가져와 사용할 수 있다."
   ]
  },
  {
   "cell_type": "code",
   "execution_count": 5,
   "metadata": {},
   "outputs": [
    {
     "name": "stdout",
     "output_type": "stream",
     "text": [
      "6300 원입니다.\n"
     ]
    }
   ],
   "source": [
    "# 등급별 가격을 dict로 정의합니다.\n",
    "won = {\"A등급\": 1000, \"B등급\": 500, \"C등급\": 100}\n",
    "\n",
    "# 등급별 가격을 합산하여 반환하는 함수를 정의합니다.\n",
    "def 계산(a, b, c):\n",
    "    # 딕셔너리의 값들을 합하여 등급별 가격의 합계를 계산합니다.\n",
    "    합계 = won['A등급'] * a + won['B등급'] * b + won['C등급'] * c\n",
    "    return 합계\n",
    "    \n",
    "# 계산 함수를 호출하여 등급별 가격의 합계를 출력합니다.\n",
    "print(계산(5, 2, 3), '원입니다.')"
   ]
  },
  {
   "cell_type": "markdown",
   "metadata": {},
   "source": [
    "7. 함수 안의 함수"
   ]
  },
  {
   "cell_type": "code",
   "execution_count": 6,
   "metadata": {},
   "outputs": [
    {
     "name": "stdout",
     "output_type": "stream",
     "text": [
      "콩콩팥팥 수확의 기쁨\n"
     ]
    }
   ],
   "source": [
    "# print_text 함수 정의\n",
    "def print_text():\n",
    "\t\t# text 변수에 문자열 할당\n",
    "    text = \"콩콩팥팥 수확의 기쁨\" \n",
    "\t\t\n",
    "\t\t# 중첩 함수 txt 정의\n",
    "    def txt():\n",
    "\t\t    # 바깥쪽 함수인 print_text의 변수인 text를 출력\n",
    "        print(text)\n",
    "\t\t\n",
    "\t\t# 중첩 함수 호출\n",
    "    txt()\n",
    "\n",
    "# print_text 함수 호출\n",
    "print_text()"
   ]
  },
  {
   "cell_type": "markdown",
   "metadata": {},
   "source": [
    "이해도 체크리스트"
   ]
  },
  {
   "cell_type": "markdown",
   "metadata": {},
   "source": [
    "1. 함수는 무엇을 하기 위해 사용되나요?   \n",
    "    함수는 자주 반복되는 코드를 미리 작성하여 코드의 재사용성을 높이고, 프로그램의 효율성을 증대 시키기 위해 사용됩니다."
   ]
  },
  {
   "cell_type": "markdown",
   "metadata": {},
   "source": [
    "2. 함수의 선언 방법에 대해서 설명해주세요.  \n",
    "    def 이름 (매개변수or 공백):"
   ]
  },
  {
   "cell_type": "markdown",
   "metadata": {},
   "source": [
    "3. 함수의 반환값을 어떻게 받을 수 있나요?  \n",
    "return으로 값을 반환함"
   ]
  },
  {
   "cell_type": "markdown",
   "metadata": {},
   "source": [
    "4. 전역 변수와 지역 변수에 차이에 대해 설명해주세요.(심화)\n",
    "    - 전역변수는 전역에 사용가능한 변수로 값의 변화를 주지 않고 고정적으로 사용할때 사용한다.\n",
    "        \n",
    "        전역 변수와 지역 변수의 차이는 변수의 범위에 있습니다.\n",
    "        \n",
    "        - **전역 변수(Global Variable)**: **프로그램 전체에서 접근 가능한 변수**로, **함수 외부에서 정의**되며 프로그램 어디서든 참조할 수 있습니다.\n",
    "        - **지역 변수(Local Variable)**: **함수 내에서 정의되어 함수 내에서만 접근 가능한 변수**로, **함수가 호출될 때 생성되고 함수가 종료되면 소멸합니다. 함수 내에서만 유효**합니다.\n",
    "        \n",
    "        전역 변수와 지역 변수의 주요 차이는 변수의 유효 범위에 있습니다. 함수 내에서 정의된 지역 변수는 함수 내에서만 유효하며 함수 외부에서는 접근할 수 없습니다. 하지만 전역 변수는 프로그램 전체에서 접근할 수 있습니다."
   ]
  },
  {
   "cell_type": "markdown",
   "metadata": {},
   "source": [
    "## 1. 클래스란?\n",
    "\n",
    "클래스는 **데이터와 기능을 가지고 있는 인스턴스 객체를 생성하기 위한 역할**을 합니다 == **설계도**.\n",
    "\n",
    "예를 들어, Person 클래스는 사람의 속성(이름, 나이 등)과 행위(인사하는 기능 등)을 정의할 수 있습니다."
   ]
  },
  {
   "cell_type": "markdown",
   "metadata": {},
   "source": [
    "## 2. 객체란?\n",
    "\n",
    "객체는 **클래스를 통해 생성된 실제 데이터 요소**입니다. 예를 들어, 숫자, 문자열, 함수, 클래스 등 모두 객체입니다.\n",
    "\n",
    "객체에 해당하는 것들\n",
    "\n",
    "- 게임 캐릭터(궁수, 성직자 등등)\n",
    "- 집, 나무, 자동차\n",
    "- 네이버 홈페이지의 버튼들"
   ]
  },
  {
   "cell_type": "markdown",
   "metadata": {},
   "source": [
    "## 3. 인스턴스란?\n",
    "\n",
    "인스턴스는 객체의 특별한 경우입니다. 보통 **클래스를 기반으로 만들어진 객체**를 가리킵니다.\n",
    "\n",
    "클래스는 객체를 만들기 위한 틀이라고 생각할 수 있습니다. 이 **클래스를 실제로 사용하여 메모리에 할당된 객체가 인스턴스**입니다"
   ]
  },
  {
   "cell_type": "markdown",
   "metadata": {},
   "source": [
    "## 4. 클래스의 형태"
   ]
  },
  {
   "cell_type": "code",
   "execution_count": 9,
   "metadata": {},
   "outputs": [
    {
     "name": "stdout",
     "output_type": "stream",
     "text": [
      "수강생 여러분\n"
     ]
    }
   ],
   "source": [
    "class Person:\n",
    "    # hello 메서드를 정의합니다.\n",
    "    def hello(self):\n",
    "        # '수강생 여러분'을 출력합니다.\n",
    "        print('수강생 여러분')\n",
    "\n",
    "# Person 클래스의 인스턴스를 생성합니다.\n",
    "호출 = Person()\n",
    "# hello 메서드를 호출하여 '수강생 여러분'을 출력합니다.\n",
    "호출.hello()"
   ]
  },
  {
   "cell_type": "markdown",
   "metadata": {},
   "source": [
    "## 5. 인스턴스와 객체의 차이\n",
    "\n",
    "일반적으로 **객체와 인스턴스는 같은 의미**로 사용됩니다.\n",
    "\n",
    "**객체는 클래스를 통해 생성**되며, **객체 중에서 특정 클래스의 인스턴스를 가리키는 경우에만 인스턴스**가 됩니다.\n",
    "\n",
    "따라서 **인스턴스는 클래스로부터 생성된 특정 객체를 가리키는 개념**입니다."
   ]
  },
  {
   "cell_type": "code",
   "execution_count": 10,
   "metadata": {},
   "outputs": [],
   "source": [
    "class Car:\n",
    "\t\tpass\n",
    "\n",
    "my_car = Car()\n",
    "your_car = Car()"
   ]
  },
  {
   "cell_type": "markdown",
   "metadata": {},
   "source": [
    "여기서 my_car, your_car는 모두 Car클래스의 인스턴스입니다. 즉 Car클래스로부터 생성된 객체입니다.\n",
    "\n",
    "**모든 인스턴스는 객체이지만, 모든 객체가 인스턴스는 아닙니다.**"
   ]
  },
  {
   "cell_type": "markdown",
   "metadata": {},
   "source": [
    "## 6. 클래스의 속성"
   ]
  },
  {
   "cell_type": "code",
   "execution_count": 11,
   "metadata": {},
   "outputs": [
    {
     "name": "stdout",
     "output_type": "stream",
     "text": [
      "안녕하세요\n"
     ]
    }
   ],
   "source": [
    "class 클래스이름:\n",
    "\t\tdef __init__(self):\n",
    "\t\t\t\tself.속성 = 값\n",
    "\t\t\t\t\n",
    "# Person 클래스를 정의합니다.\n",
    "class Person:\n",
    "    def __init__(self):\n",
    "        self.hello = \"안녕하세요\"\n",
    "        \n",
    "    # greeting 메서드를 정의합니다.\n",
    "    def greeting(self):\n",
    "        print(self.hello)\n",
    "        \n",
    "# Person 클래스의 인스턴스를 생성합니다.\n",
    "호출 = Person()\n",
    "\n",
    "# greeting 메서드를 호출합니다.\n",
    "호출.greeting()"
   ]
  },
  {
   "cell_type": "markdown",
   "metadata": {},
   "source": [
    "## 7. 매직 메소드\n",
    "\n",
    "매직 메소드들은 **클래스의 특정 동작을 정의하거나, 제어하며 파이썬 내무에서 자동으로 호출되는 메서드**입니다."
   ]
  },
  {
   "cell_type": "markdown",
   "metadata": {},
   "source": [
    "`__init__, __str__, __repr__, __len__, __getitem__, __setitem___`  등이 있습니다."
   ]
  },
  {
   "cell_type": "markdown",
   "metadata": {},
   "source": [
    "`self` = **인스턴스 자기 자신**을 의미합니다.  \n",
    "이 함수에서 `__init__` 의 매개변수 self에 들어가는 값은 Person()입니다."
   ]
  },
  {
   "cell_type": "code",
   "execution_count": 12,
   "metadata": {},
   "outputs": [
    {
     "name": "stdout",
     "output_type": "stream",
     "text": [
      "안녕하세요. 저는 마리아입니다.\n",
      "이름: 마리아\n",
      "나이: 20\n",
      "주소: 서울시 서초구 반포동\n"
     ]
    }
   ],
   "source": [
    "class Person:\n",
    "    # __init__ 메서드: 클래스의 인스턴스가 생성될 때 호출되는 초기화 메서드입니다.\n",
    "    def __init__(self, name, age, address):\n",
    "        # self.hello: 인스턴스 변수 hello를 '안녕하세요.'로 초기화합니다.\n",
    "        self.hello = '안녕하세요.'\n",
    "        # self.name: 인스턴스 변수 name을 매개변수 name으로 초기화합니다.\n",
    "        self.name = name\n",
    "        # self.age: 인스턴스 변수 age를 매개변수 age로 초기화합니다.\n",
    "        self.age = age\n",
    "        # self.address: 인스턴스 변수 address를 매개변수 address로 초기화합니다.\n",
    "        self.address = address\n",
    "    \n",
    "    # greeting 메서드: 인사말을 출력하는 메서드입니다.\n",
    "    def greeting(self):\n",
    "        # print 함수를 사용하여 인사말을 출력합니다.\n",
    "        print('{0} 저는 {1}입니다.'.format(self.hello, self.name))\n",
    "\n",
    "# Person 클래스의 인스턴스 생성합니다.\n",
    "maria = Person('마리아', 20, '서울시 서초구 반포동')\n",
    "\n",
    "# greeting 메서드 호출하여 인사말 출력합니다.\n",
    "maria.greeting()\n",
    "\n",
    "# 인스턴스 변수에 접근하여 정보 출력합니다.\n",
    "print('이름:', maria.name)      \n",
    "print('나이:', maria.age)       \n",
    "print('주소:', maria.address) \n"
   ]
  },
  {
   "cell_type": "markdown",
   "metadata": {},
   "source": [
    "## 8. 클래스의 상속\n",
    "\n",
    "클래스의 상속은 **물려받는 기능을 유지한채로 다른 기능을 추가해서 사용하는 것**을 의미합니다.\n",
    "\n",
    "**기능을 물려주는 클래스를 기반 클래스, 물려받는 클래스를 파생 클래스**라고 합니다."
   ]
  },
  {
   "cell_type": "code",
   "execution_count": 13,
   "metadata": {},
   "outputs": [
    {
     "name": "stdout",
     "output_type": "stream",
     "text": [
      "['__class__', '__delattr__', '__dict__', '__dir__', '__doc__', '__eq__', '__format__', '__ge__', '__getattribute__', '__getstate__', '__gt__', '__hash__', '__init__', '__init_subclass__', '__le__', '__lt__', '__module__', '__ne__', '__new__', '__reduce__', '__reduce_ex__', '__repr__', '__setattr__', '__sizeof__', '__str__', '__subclasshook__', '__weakref__', 'battery', 'batteryKM', 'maxpeople', 'maxspeed', 'move', 'stop']\n"
     ]
    }
   ],
   "source": [
    "# Car 클래스를 정의합니다.\n",
    "class Car:\n",
    "    # 클래스 속성을 정의합니다.\n",
    "    maxspeed = 300  # 최대 속도를 설정합니다.\n",
    "    maxpeople = 5   # 최대 탑승인원을 설정합니다.\n",
    "    \n",
    "    # move 메서드를 정의합니다.\n",
    "    def move(self, x):\n",
    "        print(\"스피드로 달리고 있습니다.\")\n",
    "\n",
    "    # stop 메서드를 정의합니다.\n",
    "    def stop(self):\n",
    "        print(\"멈췄습니다.\")  # 정지 메시지를 출력합니다.\n",
    "\n",
    "# Car 클래스를 상속받는 HybridCar 클래스를 정의합니다.\n",
    "class HybridCar(Car):\n",
    "    # HybridCar 클래스에만 해당하는 속성을 정의합니다.\n",
    "    battery = 1000     # 배터리 용량을 설정합니다.\n",
    "    batteryKM = 300    # 배터리 주행 거리를 설정합니다.\n",
    "\n",
    "# HybridCar 클래스의 인스턴스를 생성합니다.\n",
    "k5 = HybridCar()\n",
    "# k5.maxspeed\n",
    "\n",
    "# HybridCar 클래스의 인스턴스 속성과 메서드를 확인합니다.\n",
    "print(dir(k5))  # 인스턴스의 속성과 메서드를 리스트 형태로 출력합니다."
   ]
  },
  {
   "cell_type": "code",
   "execution_count": 15,
   "metadata": {},
   "outputs": [
    {
     "name": "stdout",
     "output_type": "stream",
     "text": [
      "300\n"
     ]
    }
   ],
   "source": [
    "# Car 클래스를 정의합니다.\n",
    "class Car:\n",
    "    # 최대 속도를 설정합니다.\n",
    "    maxspeed = 300\n",
    "    # 최대 탑승인원을 설정합니다.\n",
    "    maxpeople = 5\n",
    "\n",
    "    # move 메서드를 정의합니다.\n",
    "    def move(self, x):\n",
    "        # 달리고 있음을 출력합니다.\n",
    "        print(\"스피드로 달리고 있습니다.\")\n",
    "\n",
    "    # stop 메서드를 정의합니다.\n",
    "    def stop(self):\n",
    "        # 멈춤을 출력합니다.\n",
    "        print[\"멈췄습니다.\"]\n",
    "\n",
    "# HybridCar 클래스를 정의합니다, Car 클래스를 상속받습니다.\n",
    "class HybridCar(Car):\n",
    "    # 배터리 용량을 설정합니다.\n",
    "    battery = 1000\n",
    "    # 배터리 주행 거리를 설정합니다.\n",
    "    batteryKM = 300\n",
    "\n",
    "# ElectricCar 클래스를 정의합니다, HybridCar 클래스를 상속받습니다.\n",
    "class ElectricCar(HybridCar):\n",
    "    # 배터리 용량을 설정합니다.\n",
    "    battery = 1000\n",
    "    # 배터리 주행 거리를 설정합니다.\n",
    "    batteryKM = 300\n",
    "\n",
    "# HybridCar 클래스의 인스턴스를 생성합니다.\n",
    "k5 = HybridCar()\n",
    "\n",
    "# ElectricCar 클래스의 인스턴스를 생성합니다.\n",
    "electricCark5 = ElectricCar()\n",
    "\n",
    "# ElectricCar 클래스의 인스턴스의 maxspeed 속성을 출력합니다.\n",
    "print(electricCark5.maxspeed)\n"
   ]
  },
  {
   "cell_type": "markdown",
   "metadata": {},
   "source": [
    "## 9. 메서드 오버라이딩\n",
    "\n",
    "메서드 오버라이딩 : **상속받은 부모 클래스의 메서드를 자식 클래스에서 다시 구현**하는 것을 의미합니다.\n",
    "\n",
    "**부모 클래스의 메서드와 동일한 이름을 가지고 있지만 자식 클래스에서 새로운 기능을 추가하거나 기존의 동작을 변경**할 수 있습니다."
   ]
  },
  {
   "cell_type": "code",
   "execution_count": 16,
   "metadata": {},
   "outputs": [
    {
     "name": "stdout",
     "output_type": "stream",
     "text": [
      "스피드로 달리고 있습니다.\n"
     ]
    }
   ],
   "source": [
    "# Car 클래스를 정의합니다.\n",
    "class Car(object):\n",
    "    maxspeed = 300  # 최대 속도를 설정합니다.\n",
    "    maxpeople = 5   # 최대 탑승인원을 설정합니다.\n",
    "    \n",
    "    # move 메서드를 정의합니다.\n",
    "    def move(self, x):\n",
    "        print(\"스피드로 달리고 있습니다.\")\n",
    "    \n",
    "    # stop 메서드를 정의합니다.\n",
    "    def stop(self):\n",
    "        print(\"멈췄습니다.\")\n",
    "\n",
    "# HybridCar 클래스를 정의합니다, Car 클래스를 상속받습니다.\n",
    "class HybridCar(Car):\n",
    "    battery = 1000     # 배터리 용량을 설정합니다.\n",
    "    batteryKM = 300    # 배터리 주행 거리를 설정합니다.\n",
    "\n",
    "# ElectricCar 클래스를 정의합니다, HybridCar 클래스를 상속받습니다.\n",
    "class ElectricCar(HybridCar):\n",
    "    battery = 1000     # 배터리 용량을 설정합니다.\n",
    "    batteryKM = 300    # 배터리 주행 거리를 설정합니다.\n",
    "\n",
    "# k5 인스턴스를 생성합니다. (HybridCar 클래스의 인스턴스)\n",
    "k5 = HybridCar()\n",
    "\n",
    "# k5의 최대 속도를 출력합니다.\n",
    "k5.maxspeed\n",
    "\n",
    "# electricCark5 인스턴스를 생성합니다. (ElectricCar 클래스의 인스턴스)\n",
    "electricCark5 = ElectricCar()\n",
    "\n",
    "# electricCark5의 최대 속도, 배터리, move 메서드를 호출합니다.\n",
    "electricCark5.maxspeed\n",
    "electricCark5.battery\n",
    "electricCark5.move(10)"
   ]
  },
  {
   "cell_type": "markdown",
   "metadata": {},
   "source": [
    "이 코드에서는 **`Car`** 클래스의 하위 클래스인 **`HybridCar`** 클래스와 **`ElectricCar`** 클래스에서 **`move`** 메서드를 오버라이딩하고 있습니다. 즉, **`Car`** 클래스에서 정의된 **`move`** 메서드와 동일한 이름의 메서드를 각각의 하위 클래스에서 다시 정의하고 있습니다.  \n",
    "**`move`** 메서드는 모두 스피드로 이동하는 동작을 나타내는데, **`HybridCar`** 클래스에서는 배터리의 용량을 출력하고 스피드를 출력하고 있고, **`ElectricCar`** 클래스에서는 배터리의 용량을 출력하고 스피드를 출력하고 있습니다."
   ]
  },
  {
   "cell_type": "markdown",
   "metadata": {},
   "source": [
    "## 이해도 체크리스트"
   ]
  },
  {
   "cell_type": "markdown",
   "metadata": {},
   "source": [
    "1. 클래스와 객체의 차이점은 무엇인가요?\n",
    "    - 정답\n",
    "        \n",
    "        **객체는 클래스를 통해 생성된 실제 데이터 요소**를 의미하며, **클래스로부터 생성된 특정 객체를 가리키는 경우에만 인스턴스**라고 합니다."
   ]
  },
  {
   "cell_type": "markdown",
   "metadata": {},
   "source": [
    "2. 클래스에서 매직 메서드란 무엇이며, 어떤 역할을 하나요?\n",
    "    - 정답\n",
    "        \n",
    "        **매직 메서드는 클래스의 특정 동작을 정의하거나 제어하며, 파이썬 내부에서 자동으로 호출되는 메서드**입니다. 예를 들어, **`__init__`**, **`__str__`**, **`__repr__`** 등이 있습니다."
   ]
  },
  {
   "cell_type": "markdown",
   "metadata": {},
   "source": [
    "3. 메서드 오버라이딩은 무엇인가요?(심화)\n",
    "    - 정답\n",
    "        \n",
    "        메서드 오버라이딩은 **상속받은 부모 클래스의 메서드를 자식 클래스에서 다시 정의**하는 것을 말합니다. 이렇게 하면 **자식 클래스에서는 부모 클래스의 동일한 이름의 메서드를 재정의**할 수 있습니다. 이렇게 함으로써 **부모 클래스의 메서드를 자식 클래스에서 새로운 기능으로 덮어쓸 수 있습니다.**"
   ]
  },
  {
   "cell_type": "markdown",
   "metadata": {},
   "source": [
    "## 1. 예외처리란?\n",
    "\n",
    "예외처리는 **프로그램 실행 중에 발생할 수 있는 오류를 처리하는 기능**입니다.\n",
    "\n",
    "예외는 **프로그램의 정상적인 흐름을 방해**할 수 있어, **예외처리를 이용한 대응으로 프로그램 실행을 계속**합니다.\n",
    "\n",
    "특히 **무중단 서버를 운영할 때 매우 중요한 문법**입니다."
   ]
  },
  {
   "cell_type": "markdown",
   "metadata": {},
   "source": [
    "## 2. 예외코드 작성 (try - except)\n",
    "\n",
    "try - except구문은 예외처리를 위해 사용됩니다.\n",
    "\n",
    "- try 블록 : **예외가 발생할 가능성이 있는 부분**을 감쌉니다. 즉, 여기서 예외가 발생할 가능성이 있습니다.\n",
    "- except 블록 : 예외가 발생했을 때 실행할 코드를 작성합니다. 즉, **이 블록은 예외 발생시 실행**됩니다."
   ]
  },
  {
   "cell_type": "code",
   "execution_count": 2,
   "metadata": {},
   "outputs": [
    {
     "name": "stdout",
     "output_type": "stream",
     "text": [
      "예외가 발생했습니다.\n"
     ]
    }
   ],
   "source": [
    "try:\n",
    "    # try 블록: 예외가 발생할 수 있는 코드를 포함합니다.\n",
    "    # 사용자로부터 숫자를 입력받습니다.\n",
    "    x = int(input('나눌 숫자를 입력하세요.'))\n",
    "    # 입력받은 숫자로 10을 나누어 결과를 계산합니다.\n",
    "    y = 10 / x\n",
    "    # 결과를 출력합니다.\n",
    "    print(y)\n",
    "except:\n",
    "    # except 블록: 예외가 발생했을 때 실행됩니다.\n",
    "    # 예외가 발생하면 해당 메시지를 출력합니다.\n",
    "    print(\"예외가 발생했습니다.\")"
   ]
  },
  {
   "cell_type": "code",
   "execution_count": 3,
   "metadata": {},
   "outputs": [
    {
     "name": "stdout",
     "output_type": "stream",
     "text": [
      "오류입니다.\n"
     ]
    }
   ],
   "source": [
    "y = [10, 20, 30]\n",
    "\n",
    "try:\n",
    "    # 사용자로부터 입력을 받아서 인덱스와 숫자를 추출합니다.\n",
    "    index, x = map(int, input('나눌 숫자를 입력하세요: ').split('.'))\n",
    "    # 리스트 y에서 해당 인덱스의 값을 x로 나눈 결과를 출력합니다.\n",
    "    print(y[index] / x)\n",
    "except:\n",
    "    # 예외가 발생하면 '오류입니다.' 메시지를 출력합니다.\n",
    "    print('오류입니다.')"
   ]
  },
  {
   "cell_type": "markdown",
   "metadata": {},
   "source": [
    "## 3. 오류를 처리하는 방법\n",
    "\n",
    "- 대표적인 오류 처리 방법들\n",
    "    - **ZeroDivisionError**: 0으로 나누려고 할 때 발생합니다.\n",
    "    - **TypeError**: 데이터 타입이 부적절한 경우 발생합니다. 예를 들어, 서로 다른 데이터 타입 간에 연산을 시도하는 경우 발생합니다.\n",
    "    - **ValueError**: 데이터의 값이 부적절한 경우 발생합니다. 예를 들어, 잘못된 형식의 값을 변환하려고 할 때 발생합니다.\n",
    "    - **NameError**: 정의되지 않은 변수를 참조하려고 할 때 발생합니다.\n",
    "    - **IndexError**: 유효한 인덱스 범위를 벗어난 인덱스를 사용하려고 할 때 발생합니다. 리스트나 튜플 등의 시퀀스에서 발생합니다.\n",
    "    - **KeyError**: 사전에서 존재하지 않는 키를 사용하려고 할 때 발생합니다.\n",
    "    - **FileNotFoundError**: 파일을 찾을 수 없는 경우 발생합니다."
   ]
  },
  {
   "cell_type": "code",
   "execution_count": 15,
   "metadata": {},
   "outputs": [
    {
     "name": "stdout",
     "output_type": "stream",
     "text": [
      "1.0\n"
     ]
    }
   ],
   "source": [
    "# 리스트 y를 정의합니다.\n",
    "y = [10, 20, 30]\n",
    "\n",
    "try:\n",
    "    # 사용자로부터 입력을 받아서 숫자로 변환한 후 index와 x에 할당합니다.\n",
    "    index, x = map(int, input('나눌 숫자를 입력하세요: ').split(','))\n",
    "    \n",
    "    # y 리스트의 index 위치에 있는 값을 x로 나눈 결과를 출력합니다.\n",
    "    print(y[index] / x)\n",
    "\n",
    "# ZeroDivisionError 예외가 발생한 경우 처리합니다.\n",
    "except ZeroDivisionError:\n",
    "    print('숫자 0으로 나눌 수 없습니다.')\n",
    "\n",
    "# IndexError 예외가 발생한 경우 처리합니다.\n",
    "except IndexError:\n",
    "    print('잘못된 인덱스입니다.')"
   ]
  },
  {
   "cell_type": "markdown",
   "metadata": {},
   "source": [
    "## 4. 예외코드 작성 (try-except-else)\n",
    "\n",
    "else구문은 **try구문에서 예외가 발생하지 않았을 때 실행되는 코드**입니다.\n",
    "\n",
    "try구문 안의 코드가 정상적으로 실행되면 else블록이 실행되고, 예외가 발생하면 except 블록이 실행됩니다."
   ]
  },
  {
   "cell_type": "code",
   "execution_count": 19,
   "metadata": {},
   "outputs": [
    {
     "name": "stdout",
     "output_type": "stream",
     "text": [
      "예외가 발생했습니다.\n"
     ]
    }
   ],
   "source": [
    "# try 블록 안에서 사용자로부터 숫자를 입력받아서 x에 할당합니다.\n",
    "try:\n",
    "    x = int(input('나눌 숫자를 입력하세요 : '))\n",
    "    \n",
    "    # x가 0이 아닌 경우, 10을 x로 나눈 값을 y에 할당합니다.\n",
    "    y = 10 / x\n",
    "    print(y)\n",
    "\n",
    "# try 블록 안에서 예외가 발생한 경우 처리합니다.\n",
    "except:\n",
    "    print('예외가 발생했습니다.')\n",
    "\n",
    "# 예외가 발생하지 않은 경우에만 실행되는 else 블록입니다.\n",
    "else:\n",
    "    # 성공적으로 실행된 경우, 성공 여부를 출력합니다.\n",
    "    print('성공하셨습니다.')"
   ]
  },
  {
   "cell_type": "markdown",
   "metadata": {},
   "source": [
    "## 5. 예외코드 작성 (try-except-else-finally)\n",
    "\n",
    "finally구문은 **예외 발생 여부에 관계없이 항상 실행**됩니다.\n",
    "\n",
    "finally구문은 **예외 처리 코드의 마지막**에 위치하며, **모든 예외 처리 작업이 완료된 후에 실행**됩니다.\n",
    "\n",
    "일반적으로 **리소스의 정리나, 마무리 작업을 수행**합니다."
   ]
  },
  {
   "cell_type": "code",
   "execution_count": 21,
   "metadata": {},
   "outputs": [
    {
     "name": "stdout",
     "output_type": "stream",
     "text": [
      "예외가 발생했습니다.\n",
      "코드 실행이 종료되었습니다.\n"
     ]
    }
   ],
   "source": [
    "# try 블록 안에서 사용자로부터 숫자를 입력받아서 x에 할당합니다.\n",
    "try:\n",
    "    x = int(input('나눌 숫자를 입력하세요.'))\n",
    "    \n",
    "    # x가 0이 아닌 경우, 10을 x로 나눈 값을 y에 할당합니다.\n",
    "    y = 10 / x\n",
    "    print(y)\n",
    "\n",
    "# try 블록 안에서 예외가 발생한 경우 처리합니다.\n",
    "except:\n",
    "    print('예외가 발생했습니다.')\n",
    "\n",
    "# try 블록에서 예외가 발생하지 않고 정상적으로 실행된 경우 실행되는 else 블록입니다.\n",
    "else:\n",
    "    print('성공하셨습니다.')\n",
    "\n",
    "# 예외 발생 여부와 관계없이 항상 실행되는 finally 블록입니다.\n",
    "finally:\n",
    "    print('코드 실행이 종료되었습니다.')"
   ]
  },
  {
   "cell_type": "markdown",
   "metadata": {},
   "source": [
    "## 6. 예외 발생 - raise\n",
    "\n",
    "raise는 **예외를 명시적으로 발생**시킵니다. \n",
    "\n",
    "프로그램에서 **특정 조건이나 상황에 대해 예외를 강제로 발생시키고자 할 때 사용**합니다."
   ]
  },
  {
   "cell_type": "code",
   "execution_count": 22,
   "metadata": {},
   "outputs": [
    {
     "name": "stdout",
     "output_type": "stream",
     "text": [
      "예외가 발생했습니다.\n",
      "코드 실행이 종료되었습니다.\n"
     ]
    }
   ],
   "source": [
    "# 사용자로부터 숫자를 입력받습니다.\n",
    "try:\n",
    "    x = int(input('나눌 숫자를 입력하세요.'))\n",
    "    # 입력받은 숫자로 10을 나눕니다.\n",
    "    y = 10 / x\n",
    "    # raise 문을 사용하여 예외를 발생시킵니다.\n",
    "    raise\n",
    "    # y를 출력합니다. (실행되지 않습니다.)\n",
    "    print(y)\n",
    "# 모든 예외를 처리하는 except 블록입니다.\n",
    "except:\n",
    "    print('예외가 발생했습니다.')\n",
    "# raise 문에 의해 예외가 발생하지 않을 경우 실행되는 else 블록입니다.\n",
    "else:\n",
    "    print('성공하셨습니다.')\n",
    "# 코드 실행이 종료될 때 실행되는 finally 블록입니다.\n",
    "finally:\n",
    "    print('코드 실행이 종료되었습니다.')"
   ]
  },
  {
   "cell_type": "markdown",
   "metadata": {},
   "source": [
    "## 이해도 체크리스트"
   ]
  },
  {
   "cell_type": "markdown",
   "metadata": {},
   "source": [
    "1. 예외처리의 목적은 무엇인가요?\n",
    "    - 정답\n",
    "        \n",
    "        프로그램 **실행 중 발생할 수 있는 오류를 처리**하여, **프로그램의 정상적인 실행을 유지**하는 것입니다."
   ]
  },
  {
   "cell_type": "markdown",
   "metadata": {},
   "source": [
    "2. try - except - else 구문에서 else 블록은 언제 실행되나요?\n",
    "    - 정답\n",
    "        \n",
    "        **try 블록에서 예외가 발생하지 않고 정상적으로 실행될 때** else 블록이 실행됩니다."
   ]
  },
  {
   "cell_type": "markdown",
   "metadata": {},
   "source": [
    "3. try - except - else - finally 구문에서 finally 블록의 역할은 무엇인가요?\n",
    "    - 정답\n",
    "        \n",
    "        **예외 발생 여부와 상관없이 항상 실행**되는 블록입니다. 일반적으로 **마무리 작업을 수행**합니다."
   ]
  },
  {
   "cell_type": "markdown",
   "metadata": {},
   "source": [
    "## 1. 파일 입출력의 모드들\n",
    "\n",
    "- 읽기 모드 (r)\n",
    "    - **`r`** 모드는 파일을 **읽기 전용**으로 엽니다.\n",
    "    - **파일이 존재하지 않으면 오류**가 발생합니다.\n",
    "- 쓰기 모드 (w)\n",
    "    - **`w`** 모드는 파일을 **쓰기 전용**으로 엽니다.\n",
    "    - 파일이 **존재하지 않으면 새로운 파일**을 생성합니다.\n",
    "    - 이미 **파일이 존재할 경우, 기존 내용을 삭제하고 새로운 내용**을 씁니다.\n",
    "- 추가 모드 (a)\n",
    "    - **`a`** 모드는 파일을 **쓰기 전용**으로 엽니다.\n",
    "    - 파일이 이미 **존재하면 기존 내용 끝에 추가**합니다.\n",
    "    - 파일이 **존재하지 않으면 새로운 파일을 생성**합니다."
   ]
  },
  {
   "cell_type": "markdown",
   "metadata": {},
   "source": [
    "## 2. 파일 만들어보기"
   ]
  },
  {
   "cell_type": "code",
   "execution_count": 25,
   "metadata": {},
   "outputs": [],
   "source": [
    "# 'test.txt' 파일을 쓰기 모드('w')로 엽니다. \n",
    "# 만약 파일이 존재하지 않으면 새로 생성하고, 이미 존재한다면 내용을 덮어씁니다.\n",
    "f = open('test.txt', 'w')\n",
    "\n",
    "# 파일에 문자열 '수강생 여러분'을 씁니다.\n",
    "f.write('수강생 여러분')\n",
    "\n",
    "# 파일을 닫습니다.\n",
    "f.close()"
   ]
  },
  {
   "cell_type": "markdown",
   "metadata": {},
   "source": [
    "## 3. 파일 수정하기"
   ]
  },
  {
   "cell_type": "code",
   "execution_count": 23,
   "metadata": {},
   "outputs": [],
   "source": [
    "# 'test.txt' 파일을 쓰기 모드('w')로 엽니다. \n",
    "# 만약 파일이 존재하지 않으면 새로 생성하고, 이미 존재한다면 내용을 덮어씁니다.\n",
    "f = open('test.txt', 'w')\n",
    "\n",
    "# 파일에 문자열 '개발자 여러분'을 씁니다.\n",
    "f.write('수강생 여러분')\n",
    "\n",
    "# 파일을 닫습니다.\n",
    "f.close()"
   ]
  },
  {
   "cell_type": "markdown",
   "metadata": {},
   "source": [
    "## 4. 파일 불러오기"
   ]
  },
  {
   "cell_type": "code",
   "execution_count": 26,
   "metadata": {},
   "outputs": [
    {
     "name": "stdout",
     "output_type": "stream",
     "text": [
      "수강생 여러분\n"
     ]
    }
   ],
   "source": [
    "# 'test.txt' 파일을 읽기 모드('r')로 엽니다.\n",
    "f = open('test.txt', 'r')\n",
    "\n",
    "# 파일의 내용을 문자열 s에 저장합니다.\n",
    "s = f.read()\n",
    "\n",
    "# s를 출력합니다.\n",
    "print(s)\n",
    "\n",
    "# 파일을 닫습니다.\n",
    "f.close()"
   ]
  },
  {
   "cell_type": "code",
   "execution_count": 27,
   "metadata": {},
   "outputs": [
    {
     "name": "stdout",
     "output_type": "stream",
     "text": [
      "수강생 여러분\n",
      "<class 'str'>\n"
     ]
    }
   ],
   "source": [
    "#한줄씩 읽어오기\n",
    "\n",
    "# 'test.txt' 파일을 읽기 모드('r')로 엽니다.\n",
    "f = open('test.txt', 'r')\n",
    "\n",
    "# 파일에서 한 줄을 읽어서 line에 저장합니다.\n",
    "line = f.readline()\n",
    "\n",
    "# 읽은 한 줄을 출력합니다.\n",
    "print(line)\n",
    "\n",
    "# line의 데이터 타입을 출력합니다.\n",
    "print(type(line))\n",
    "\n",
    "# 파일을 닫습니다.\n",
    "f.close()"
   ]
  },
  {
   "cell_type": "markdown",
   "metadata": {},
   "source": [
    "## 5. while문을 이용해 파일 읽기"
   ]
  },
  {
   "cell_type": "code",
   "execution_count": 30,
   "metadata": {},
   "outputs": [
    {
     "name": "stdout",
     "output_type": "stream",
     "text": [
      "수강생 여러분\n",
      "\n"
     ]
    }
   ],
   "source": [
    "# 'test.txt' 파일을 읽기 모드('r')로 엽니다.\n",
    "f = open('test.txt', 'r')\n",
    "\n",
    "while line:\n",
    "\t\t# 파일에서 한 줄을 읽어서 line에 저장합니다.\n",
    "\t\tline = f.readline()\n",
    "\t\t\n",
    "\t\t# 저장된 line을 출력합니다.\n",
    "\t\tprint(line)\n",
    "\n",
    "# 파일을 닫습니다.\n",
    "f.close()"
   ]
  },
  {
   "cell_type": "markdown",
   "metadata": {},
   "source": [
    "## 6. 파일 내용 추가하기"
   ]
  },
  {
   "cell_type": "code",
   "execution_count": 31,
   "metadata": {},
   "outputs": [],
   "source": [
    "# 'test.txt' 파일을 추가 모드('a')로 엽니다.\n",
    "f = open('test.txt', 'a')\n",
    "\n",
    "# 파일에 '힘내자'를 추가합니다.\n",
    "f.write('힘내자')\n",
    "\n",
    "# 파일을 닫습니다.\n",
    "f.close()"
   ]
  },
  {
   "cell_type": "markdown",
   "metadata": {},
   "source": [
    "## 7. 문법의 단순화"
   ]
  },
  {
   "cell_type": "code",
   "execution_count": 32,
   "metadata": {},
   "outputs": [],
   "source": [
    "# 'test.txt' 파일을 추가 모드('a')로 열고, 파일 객체를 f로 지정합니다.\n",
    "with open('test.txt', 'a') as f:\n",
    "    # 파일에 '힘내자!!!'를 추가합니다.\n",
    "    f.write('힘내자!!!')\n",
    "\t\t\n",
    "#f.close()를 작성할 필요가 없다."
   ]
  },
  {
   "cell_type": "markdown",
   "metadata": {},
   "source": [
    "## 8. 배열을 추가하는 방법"
   ]
  },
  {
   "cell_type": "code",
   "execution_count": 33,
   "metadata": {},
   "outputs": [],
   "source": [
    "#list형태의 데이터는 문자로 형변환을 한 후 추가할 수 있다.\n",
    "\n",
    "# 리스트 list를 정의합니다.\n",
    "list = [10, 20, 30]\n",
    "\n",
    "# 'test.txt' 파일을 추가 모드('a')로 열고, 파일 객체를 f로 지정합니다.\n",
    "with open('test.txt', 'a') as f:\n",
    "    # 리스트를 문자열로 변환하여 파일에 추가합니다.\n",
    "    f.write(str(list))"
   ]
  },
  {
   "cell_type": "markdown",
   "metadata": {},
   "source": [
    "## 9. JavaScript 언어 변형시키기"
   ]
  },
  {
   "cell_type": "code",
   "execution_count": 34,
   "metadata": {},
   "outputs": [],
   "source": [
    "# 리스트 list를 정의합니다.\n",
    "list = [10, 20, 30]\n",
    "\n",
    "# 'test.txt' 파일을 쓰기 모드('w')로 열고, 파일 객체를 f로 지정합니다.\n",
    "with open('test.txt', 'w') as f:\n",
    "    # 리스트를 문자열로 변환하여 파일에 쓰고, JavaScript 변수를 할당하는 형식으로 저장합니다.\n",
    "    f.write('let test = ' + str(list))"
   ]
  },
  {
   "cell_type": "markdown",
   "metadata": {},
   "source": [
    "## 10. list 형태 간편하게 사용하기"
   ]
  },
  {
   "cell_type": "code",
   "execution_count": 35,
   "metadata": {},
   "outputs": [],
   "source": [
    "list = ['10', '20', '30']\n",
    "\n",
    "# 'test.txt' 파일을 쓰기 모드로 엽니다.\n",
    "with open('test.txt', 'w') as f:\n",
    "    # 리스트의 각 요소를 파일에 연속해서 씁니다.\n",
    "    f.writelines(list)"
   ]
  },
  {
   "cell_type": "code",
   "execution_count": 36,
   "metadata": {},
   "outputs": [],
   "source": [
    "#한줄씩 띄워서 파일에 입력하기\n",
    "\n",
    "list = ['10', '20', '30']\n",
    "\n",
    "# 'test.txt' 파일을 쓰기 모드로 엽니다.\n",
    "with open('test.txt', 'w') as f:\n",
    "    # 리스트의 각 요소를 파일에 한 줄씩 씁니다.\n",
    "    for item in list:\n",
    "        f.write(item + '\\n')"
   ]
  },
  {
   "cell_type": "markdown",
   "metadata": {},
   "source": [
    "## 11. csv파일 사용하기"
   ]
  },
  {
   "cell_type": "code",
   "execution_count": 37,
   "metadata": {},
   "outputs": [],
   "source": [
    "list = ['10', '20', '30']\n",
    "\n",
    "# 'test3.csv' 파일을 쓰기 모드로 엽니다.\n",
    "with open('test3.csv', 'w') as f:\n",
    "    # 리스트의 각 요소를 쉼표로 구분하여 파일에 씁니다.\n",
    "    f.write(','.join(map(str, list)))"
   ]
  },
  {
   "cell_type": "markdown",
   "metadata": {},
   "source": [
    "## 이해도 체크리스트"
   ]
  },
  {
   "cell_type": "markdown",
   "metadata": {},
   "source": [
    "1. 파일을 생성하고 내용을 작성하는 방법\n",
    "    \n",
    "    **1)** 'w' 모드로 파일을 열면 파일이 존재하지 않을 경우 새로운 파일을 생성합니다.\n",
    "    \n",
    "    **2)** 'a' 모드로 파일을 열면 기존 내용 뒤에 새로운 내용을 추가합니다.\n",
    "    \n",
    "    **3)** 파일을 열고 작업을 마친 후에는 반드시 **`f.close()`**를 호출해야 합니다.\n",
    "    "
   ]
  },
  {
   "cell_type": "markdown",
   "metadata": {},
   "source": [
    "2. readline() 함수의 역할\n",
    "    \n",
    "    **1)** 파일에서 한 줄을 읽어오고, 파일 포인터를 다음 줄로 이동합니다."
   ]
  },
  {
   "cell_type": "markdown",
   "metadata": {},
   "source": [
    "3. with 구문을 사용하여 파일을 다루는 장점\n",
    "    \n",
    "    **1)** 파일을 열고 닫는 부분을 자동으로 처리해 줍니다."
   ]
  }
 ],
 "metadata": {
  "kernelspec": {
   "display_name": "Python 3",
   "language": "python",
   "name": "python3"
  },
  "language_info": {
   "codemirror_mode": {
    "name": "ipython",
    "version": 3
   },
   "file_extension": ".py",
   "mimetype": "text/x-python",
   "name": "python",
   "nbconvert_exporter": "python",
   "pygments_lexer": "ipython3",
   "version": "3.11.9"
  }
 },
 "nbformat": 4,
 "nbformat_minor": 2
}
